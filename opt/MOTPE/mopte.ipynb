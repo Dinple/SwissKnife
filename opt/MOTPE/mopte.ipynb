{
 "cells": [
  {
   "cell_type": "code",
   "execution_count": 5,
   "metadata": {},
   "outputs": [
    {
     "name": "stderr",
     "output_type": "stream",
     "text": [
      "/tmp/ipykernel_169058/885169470.py:19: FutureWarning: MOTPESampler has been deprecated in v2.9.0. This feature will be removed in v4.0.0. See https://github.com/optuna/optuna/releases/tag/v2.9.0.\n",
      "  sampler = optuna.samplers.MOTPESampler(\n",
      "\u001b[32m[I 2023-04-06 15:57:42,662]\u001b[0m A new study created in memory with name: no-name-c697be33-3f17-4505-b7b9-56309bc141ca\u001b[0m\n",
      "\u001b[32m[I 2023-04-06 15:57:42,663]\u001b[0m Trial 0 finished with values: [1.7332740857007958, 1.0525793983896556] and parameters: {'x1': 1.7332740857007958, 'x2': 1.0525793983896556}. \u001b[0m\n",
      "\u001b[32m[I 2023-04-06 15:57:42,664]\u001b[0m Trial 1 finished with values: [0.262816956346974, 0.16637377499074946] and parameters: {'x1': 0.262816956346974, 'x2': 0.16637377499074946}. \u001b[0m\n",
      "\u001b[32m[I 2023-04-06 15:57:42,665]\u001b[0m Trial 2 finished with values: [0.4778486693810291, 2.581898401982166] and parameters: {'x1': 0.4778486693810291, 'x2': 2.581898401982166}. \u001b[0m\n",
      "\u001b[32m[I 2023-04-06 15:57:42,666]\u001b[0m Trial 3 finished with values: [1.5811987040444664, 2.4057697527695057] and parameters: {'x1': 1.5811987040444664, 'x2': 2.4057697527695057}. \u001b[0m\n",
      "\u001b[32m[I 2023-04-06 15:57:42,667]\u001b[0m Trial 4 finished with values: [0.6685987429767053, 0.47771384635332614] and parameters: {'x1': 0.6685987429767053, 'x2': 0.47771384635332614}. \u001b[0m\n",
      "\u001b[32m[I 2023-04-06 15:57:42,668]\u001b[0m Trial 5 finished with values: [0.6182661050121059, 0.43889514089032033] and parameters: {'x1': 0.6182661050121059, 'x2': 0.43889514089032033}. \u001b[0m\n",
      "\u001b[32m[I 2023-04-06 15:57:42,668]\u001b[0m Trial 6 finished with values: [1.2042266229252339, 1.005139836650279] and parameters: {'x1': 1.2042266229252339, 'x2': 1.005139836650279}. \u001b[0m\n",
      "\u001b[32m[I 2023-04-06 15:57:42,669]\u001b[0m Trial 7 finished with values: [0.599362575226815, 2.068464010142807] and parameters: {'x1': 0.599362575226815, 'x2': 2.068464010142807}. \u001b[0m\n",
      "\u001b[32m[I 2023-04-06 15:57:42,669]\u001b[0m Trial 8 finished with values: [1.430405034013289, 3.7257976121886025] and parameters: {'x1': 1.430405034013289, 'x2': 3.7257976121886025}. \u001b[0m\n",
      "\u001b[32m[I 2023-04-06 15:57:42,670]\u001b[0m Trial 9 finished with values: [0.2041763079332406, 2.8260954568526158] and parameters: {'x1': 0.2041763079332406, 'x2': 2.8260954568526158}. \u001b[0m\n",
      "\u001b[32m[I 2023-04-06 15:57:42,670]\u001b[0m Trial 10 finished with values: [1.9716847270330047, 2.2363162752144574] and parameters: {'x1': 1.9716847270330047, 'x2': 2.2363162752144574}. \u001b[0m\n",
      "\u001b[32m[I 2023-04-06 15:57:42,670]\u001b[0m Trial 11 finished with values: [1.1840384864542022, 2.967722701637606] and parameters: {'x1': 1.1840384864542022, 'x2': 2.967722701637606}. \u001b[0m\n",
      "\u001b[32m[I 2023-04-06 15:57:42,671]\u001b[0m Trial 12 finished with values: [1.642562409915687, 0.5026861568300207] and parameters: {'x1': 1.642562409915687, 'x2': 0.5026861568300207}. \u001b[0m\n",
      "\u001b[32m[I 2023-04-06 15:57:42,671]\u001b[0m Trial 13 finished with values: [1.8152263167901104, 2.292681188947337] and parameters: {'x1': 1.8152263167901104, 'x2': 2.292681188947337}. \u001b[0m\n",
      "\u001b[32m[I 2023-04-06 15:57:42,672]\u001b[0m Trial 14 finished with values: [1.462448690767511, 1.204856651439803] and parameters: {'x1': 1.462448690767511, 'x2': 1.204856651439803}. \u001b[0m\n",
      "\u001b[32m[I 2023-04-06 15:57:42,672]\u001b[0m Trial 15 finished with values: [0.13325579255667086, 0.652281912455849] and parameters: {'x1': 0.13325579255667086, 'x2': 0.652281912455849}. \u001b[0m\n",
      "\u001b[32m[I 2023-04-06 15:57:42,673]\u001b[0m Trial 16 finished with values: [0.26755247013575056, 2.6237301683529455] and parameters: {'x1': 0.26755247013575056, 'x2': 2.6237301683529455}. \u001b[0m\n",
      "\u001b[32m[I 2023-04-06 15:57:42,673]\u001b[0m Trial 17 finished with values: [0.846992656804507, 3.938902382380396] and parameters: {'x1': 0.846992656804507, 'x2': 3.938902382380396}. \u001b[0m\n",
      "\u001b[32m[I 2023-04-06 15:57:42,674]\u001b[0m Trial 18 finished with values: [0.8070039326943717, 1.0199730610502407] and parameters: {'x1': 0.8070039326943717, 'x2': 1.0199730610502407}. \u001b[0m\n",
      "\u001b[32m[I 2023-04-06 15:57:42,674]\u001b[0m Trial 19 finished with values: [0.4329456658847095, 3.375441251319825] and parameters: {'x1': 0.4329456658847095, 'x2': 3.375441251319825}. \u001b[0m\n",
      "\u001b[32m[I 2023-04-06 15:57:42,675]\u001b[0m Trial 20 finished with values: [1.3816554046157272, 0.8115527310447845] and parameters: {'x1': 1.3816554046157272, 'x2': 0.8115527310447845}. \u001b[0m\n",
      "\u001b[32m[I 2023-04-06 15:57:42,680]\u001b[0m Trial 21 finished with values: [0.12520600890619776, 0.10545331937420672] and parameters: {'x1': 0.12520600890619776, 'x2': 0.10545331937420672}. \u001b[0m\n",
      "\u001b[32m[I 2023-04-06 15:57:42,685]\u001b[0m Trial 22 finished with values: [0.03673269284199718, 1.5423521877549085] and parameters: {'x1': 0.03673269284199718, 'x2': 1.5423521877549085}. \u001b[0m\n",
      "\u001b[32m[I 2023-04-06 15:57:42,690]\u001b[0m Trial 23 finished with values: [0.081385869003064, 1.550066198415172] and parameters: {'x1': 0.081385869003064, 'x2': 1.550066198415172}. \u001b[0m\n",
      "\u001b[32m[I 2023-04-06 15:57:42,694]\u001b[0m Trial 24 finished with values: [0.07675553003994821, 0.01107967432926546] and parameters: {'x1': 0.07675553003994821, 'x2': 0.01107967432926546}. \u001b[0m\n",
      "\u001b[32m[I 2023-04-06 15:57:42,699]\u001b[0m Trial 25 finished with values: [0.024384740779049494, 1.7474046882774463] and parameters: {'x1': 0.024384740779049494, 'x2': 1.7474046882774463}. \u001b[0m\n",
      "\u001b[32m[I 2023-04-06 15:57:42,704]\u001b[0m Trial 26 finished with values: [0.01760548549841201, 0.01889361685939469] and parameters: {'x1': 0.01760548549841201, 'x2': 0.01889361685939469}. \u001b[0m\n",
      "\u001b[32m[I 2023-04-06 15:57:42,708]\u001b[0m Trial 27 finished with values: [0.3747741644981888, 0.13351396167566065] and parameters: {'x1': 0.3747741644981888, 'x2': 0.13351396167566065}. \u001b[0m\n",
      "\u001b[32m[I 2023-04-06 15:57:42,713]\u001b[0m Trial 28 finished with values: [0.33248297811385985, 0.001186471532220068] and parameters: {'x1': 0.33248297811385985, 'x2': 0.001186471532220068}. \u001b[0m\n",
      "\u001b[32m[I 2023-04-06 15:57:42,718]\u001b[0m Trial 29 finished with values: [0.3849556370699129, 0.7447382700739364] and parameters: {'x1': 0.3849556370699129, 'x2': 0.7447382700739364}. \u001b[0m\n",
      "\u001b[32m[I 2023-04-06 15:57:42,723]\u001b[0m Trial 30 finished with values: [0.2930408744822539, 0.07061892807498227] and parameters: {'x1': 0.2930408744822539, 'x2': 0.07061892807498227}. \u001b[0m\n"
     ]
    }
   ],
   "source": [
    "import optuna\n",
    "\n",
    "seed = 128\n",
    "num_variables = 2\n",
    "n_startup_trials = 11 * num_variables - 1\n",
    "\n",
    "def objective(trial):\n",
    "    x = []\n",
    "    for i in range(1, num_variables + 1):\n",
    "        # what does suggest_float do?\n",
    "        categorical_data = trial.suggest_categorical(\"SDB\", [True, False])\n",
    "        x.append(trial.suggest_float(f\"x{i}\", 0.0, 2.0 * i))\n",
    "    return x\n",
    "\n",
    "\n",
    "sampler = optuna.samplers.MOTPESampler(\n",
    "    n_startup_trials=n_startup_trials, n_ehvi_candidates=24, seed=seed\n",
    ")\n",
    "\n",
    "study = optuna.create_study(directions=[\"minimize\"] * num_variables, sampler=sampler)\n",
    "study.optimize(objective, n_trials=n_startup_trials + 10)"
   ]
  },
  {
   "cell_type": "code",
   "execution_count": 6,
   "metadata": {},
   "outputs": [
    {
     "name": "stderr",
     "output_type": "stream",
     "text": [
      "\u001b[32m[I 2023-04-06 17:04:23,335]\u001b[0m A new study created in memory with name: no-name-8f7dd4ad-1de7-4da4-bd8c-e87c79bdbd0b\u001b[0m\n",
      "/tmp/ipykernel_169058/55511106.py:3: FutureWarning: suggest_uniform has been deprecated in v3.0.0. This feature will be removed in v6.0.0. See https://github.com/optuna/optuna/releases/tag/v3.0.0. Use :func:`~optuna.trial.Trial.suggest_float` instead.\n",
      "  x = trial.suggest_uniform('x', -10, 10)\n",
      "\u001b[32m[I 2023-04-06 17:04:23,337]\u001b[0m Trial 0 finished with values: [13.651822518377212, -13.651822518377212] and parameters: {'x': 5.694837279012056}. \u001b[0m\n",
      "\u001b[32m[I 2023-04-06 17:04:23,338]\u001b[0m Trial 1 finished with values: [118.75124233794078, -118.75124233794078] and parameters: {'x': -8.897304361076678}. \u001b[0m\n",
      "\u001b[32m[I 2023-04-06 17:04:23,338]\u001b[0m Trial 2 finished with values: [74.96822259572102, -74.96822259572102] and parameters: {'x': -6.658419174174983}. \u001b[0m\n",
      "\u001b[32m[I 2023-04-06 17:04:23,339]\u001b[0m Trial 3 finished with values: [0.3706475727075556, -0.3706475727075556] and parameters: {'x': 1.3911916781879903}. \u001b[0m\n",
      "\u001b[32m[I 2023-04-06 17:04:23,339]\u001b[0m Trial 4 finished with values: [73.95554681570187, -73.95554681570187] and parameters: {'x': -6.599741090038808}. \u001b[0m\n",
      "\u001b[32m[I 2023-04-06 17:04:23,339]\u001b[0m Trial 5 finished with values: [35.65704095223721, -35.65704095223721] and parameters: {'x': -3.971351685526252}. \u001b[0m\n",
      "\u001b[32m[I 2023-04-06 17:04:23,340]\u001b[0m Trial 6 finished with values: [29.25834169312666, -29.25834169312666] and parameters: {'x': 7.40909804802304}. \u001b[0m\n",
      "\u001b[32m[I 2023-04-06 17:04:23,340]\u001b[0m Trial 7 finished with values: [30.86489213897821, -30.86489213897821] and parameters: {'x': -3.5556180699340922}. \u001b[0m\n",
      "\u001b[32m[I 2023-04-06 17:04:23,341]\u001b[0m Trial 8 finished with values: [43.312772933923725, -43.312772933923725] and parameters: {'x': -4.581244026316281}. \u001b[0m\n",
      "\u001b[32m[I 2023-04-06 17:04:23,341]\u001b[0m Trial 9 finished with values: [4.674883848022248, -4.674883848022248] and parameters: {'x': 4.162147970889654}. \u001b[0m\n",
      "\u001b[32m[I 2023-04-06 17:04:23,341]\u001b[0m Trial 10 finished with values: [10.972616090478512, -10.972616090478512] and parameters: {'x': 5.312493938179889}. \u001b[0m\n",
      "\u001b[32m[I 2023-04-06 17:04:23,342]\u001b[0m Trial 11 finished with values: [8.474905403968526, -8.474905403968526] and parameters: {'x': 4.911169078560798}. \u001b[0m\n",
      "\u001b[32m[I 2023-04-06 17:04:23,342]\u001b[0m Trial 12 finished with values: [21.38391190628785, -21.38391190628785] and parameters: {'x': -2.6242742031899287}. \u001b[0m\n",
      "\u001b[32m[I 2023-04-06 17:04:23,343]\u001b[0m Trial 13 finished with values: [6.279300873204578, -6.279300873204578] and parameters: {'x': -0.5058533223643753}. \u001b[0m\n",
      "\u001b[32m[I 2023-04-06 17:04:23,343]\u001b[0m Trial 14 finished with values: [14.342213928391049, -14.342213928391049] and parameters: {'x': -1.7871115547856586}. \u001b[0m\n",
      "\u001b[32m[I 2023-04-06 17:04:23,344]\u001b[0m Trial 15 finished with values: [143.3986048388086, -143.3986048388086] and parameters: {'x': -9.974915650592642}. \u001b[0m\n",
      "\u001b[32m[I 2023-04-06 17:04:23,344]\u001b[0m Trial 16 finished with values: [25.830263724244766, -25.830263724244766] and parameters: {'x': 7.082348249012927}. \u001b[0m\n",
      "\u001b[32m[I 2023-04-06 17:04:23,344]\u001b[0m Trial 17 finished with values: [5.29697543329986, -5.29697543329986] and parameters: {'x': -0.3015158989891553}. \u001b[0m\n",
      "\u001b[32m[I 2023-04-06 17:04:23,345]\u001b[0m Trial 18 finished with values: [3.644937272392218, -3.644937272392218] and parameters: {'x': 0.09082811868804797}. \u001b[0m\n",
      "\u001b[32m[I 2023-04-06 17:04:23,345]\u001b[0m Trial 19 finished with values: [22.374106608482098, -22.374106608482098] and parameters: {'x': -2.730127546745658}. \u001b[0m\n",
      "\u001b[32m[I 2023-04-06 17:04:23,345]\u001b[0m Trial 20 finished with values: [42.45304975308269, -42.45304975308269] and parameters: {'x': -4.515600490598137}. \u001b[0m\n",
      "\u001b[32m[I 2023-04-06 17:04:23,346]\u001b[0m Trial 21 finished with values: [25.651894149439087, -25.651894149439087] and parameters: {'x': -3.0647699009371676}. \u001b[0m\n",
      "\u001b[32m[I 2023-04-06 17:04:23,347]\u001b[0m Trial 22 finished with values: [0.7230104758987443, -0.7230104758987443] and parameters: {'x': 1.149699773080858}. \u001b[0m\n",
      "\u001b[32m[I 2023-04-06 17:04:23,347]\u001b[0m Trial 23 finished with values: [14.563821753303348, -14.563821753303348] and parameters: {'x': 5.81625755856485}. \u001b[0m\n",
      "\u001b[32m[I 2023-04-06 17:04:23,348]\u001b[0m Trial 24 finished with values: [22.225886831147783, -22.225886831147783] and parameters: {'x': -2.714433882360403}. \u001b[0m\n",
      "\u001b[32m[I 2023-04-06 17:04:23,349]\u001b[0m Trial 25 finished with values: [1.8653600934006538, -1.8653600934006538] and parameters: {'x': 0.634218138427423}. \u001b[0m\n",
      "\u001b[32m[I 2023-04-06 17:04:23,349]\u001b[0m Trial 26 finished with values: [2.2710455665210376, -2.2710455665210376] and parameters: {'x': 3.5069988608227405}. \u001b[0m\n",
      "\u001b[32m[I 2023-04-06 17:04:23,350]\u001b[0m Trial 27 finished with values: [1.8877092110743163, -1.8877092110743163] and parameters: {'x': 3.3739393039993857}. \u001b[0m\n",
      "\u001b[32m[I 2023-04-06 17:04:23,351]\u001b[0m Trial 28 finished with values: [56.973107288869116, -56.973107288869116] and parameters: {'x': 9.548053211846689}. \u001b[0m\n",
      "\u001b[32m[I 2023-04-06 17:04:23,352]\u001b[0m Trial 29 finished with values: [0.0004930304153426009, -0.0004930304153426009] and parameters: {'x': 2.0222042882196796}. \u001b[0m\n",
      "\u001b[32m[I 2023-04-06 17:04:23,352]\u001b[0m Trial 30 finished with values: [23.46097840574367, -23.46097840574367] and parameters: {'x': 6.84365341511381}. \u001b[0m\n",
      "\u001b[32m[I 2023-04-06 17:04:23,353]\u001b[0m Trial 31 finished with values: [69.01678464185834, -69.01678464185834] and parameters: {'x': -6.307634118198655}. \u001b[0m\n",
      "\u001b[32m[I 2023-04-06 17:04:23,353]\u001b[0m Trial 32 finished with values: [12.683445372631539, -12.683445372631539] and parameters: {'x': -1.5613825086097588}. \u001b[0m\n",
      "\u001b[32m[I 2023-04-06 17:04:23,354]\u001b[0m Trial 33 finished with values: [2.014578151660498, -2.014578151660498] and parameters: {'x': 0.5806416408600334}. \u001b[0m\n",
      "\u001b[32m[I 2023-04-06 17:04:23,354]\u001b[0m Trial 34 finished with values: [95.66607655783899, -95.66607655783899] and parameters: {'x': -7.780903667751717}. \u001b[0m\n",
      "\u001b[32m[I 2023-04-06 17:04:23,355]\u001b[0m Trial 35 finished with values: [57.80751395284595, -57.80751395284595] and parameters: {'x': -5.603125275361833}. \u001b[0m\n",
      "\u001b[32m[I 2023-04-06 17:04:23,355]\u001b[0m Trial 36 finished with values: [8.76650299695133, -8.76650299695133] and parameters: {'x': -0.9608280931103259}. \u001b[0m\n",
      "\u001b[32m[I 2023-04-06 17:04:23,356]\u001b[0m Trial 37 finished with values: [52.54794394766415, -52.54794394766415] and parameters: {'x': 9.248996064812296}. \u001b[0m\n",
      "\u001b[32m[I 2023-04-06 17:04:23,356]\u001b[0m Trial 38 finished with values: [25.478071777986745, -25.478071777986745] and parameters: {'x': -3.0475807846914886}. \u001b[0m\n",
      "\u001b[32m[I 2023-04-06 17:04:23,356]\u001b[0m Trial 39 finished with values: [0.19926596749292708, -0.19926596749292708] and parameters: {'x': 2.4463921678221148}. \u001b[0m\n",
      "\u001b[32m[I 2023-04-06 17:04:23,357]\u001b[0m Trial 40 finished with values: [20.604587350638553, -20.604587350638553] and parameters: {'x': 6.539227616086084}. \u001b[0m\n",
      "\u001b[32m[I 2023-04-06 17:04:23,358]\u001b[0m Trial 41 finished with values: [18.46904362688001, -18.46904362688001] and parameters: {'x': -2.297562521578948}. \u001b[0m\n",
      "\u001b[32m[I 2023-04-06 17:04:23,358]\u001b[0m Trial 42 finished with values: [110.30009111969851, -110.30009111969851] and parameters: {'x': -8.502385020541691}. \u001b[0m\n",
      "\u001b[32m[I 2023-04-06 17:04:23,359]\u001b[0m Trial 43 finished with values: [24.417280268881015, -24.417280268881015] and parameters: {'x': -2.941384448601527}. \u001b[0m\n",
      "\u001b[32m[I 2023-04-06 17:04:23,359]\u001b[0m Trial 44 finished with values: [14.228538734138992, -14.228538734138992] and parameters: {'x': 5.772073532440611}. \u001b[0m\n",
      "\u001b[32m[I 2023-04-06 17:04:23,360]\u001b[0m Trial 45 finished with values: [1.4129568663508134, -1.4129568663508134] and parameters: {'x': 3.1886786219793866}. \u001b[0m\n",
      "\u001b[32m[I 2023-04-06 17:04:23,361]\u001b[0m Trial 46 finished with values: [59.083251992055345, -59.083251992055345] and parameters: {'x': 9.686563080600806}. \u001b[0m\n",
      "\u001b[32m[I 2023-04-06 17:04:23,362]\u001b[0m Trial 47 finished with values: [94.69444447599027, -94.69444447599027] and parameters: {'x': -7.731107052950876}. \u001b[0m\n",
      "\u001b[32m[I 2023-04-06 17:04:23,362]\u001b[0m Trial 48 finished with values: [48.04776683216265, -48.04776683216265] and parameters: {'x': 8.931649647245788}. \u001b[0m\n",
      "\u001b[32m[I 2023-04-06 17:04:23,364]\u001b[0m Trial 49 finished with values: [39.515631140689315, -39.515631140689315] and parameters: {'x': 8.286145968770477}. \u001b[0m\n",
      "\u001b[32m[I 2023-04-06 17:04:23,371]\u001b[0m Trial 50 finished with values: [20.73913959130026, -20.73913959130026] and parameters: {'x': -2.5540245488249465}. \u001b[0m\n",
      "\u001b[32m[I 2023-04-06 17:04:23,371]\u001b[0m Trial 51 finished with values: [32.406064093951414, -32.406064093951414] and parameters: {'x': -3.692632439737473}. \u001b[0m\n",
      "\u001b[32m[I 2023-04-06 17:04:23,372]\u001b[0m Trial 52 finished with values: [17.255698316946155, -17.255698316946155] and parameters: {'x': -2.153997871562545}. \u001b[0m\n",
      "\u001b[32m[I 2023-04-06 17:04:23,372]\u001b[0m Trial 53 finished with values: [68.79975685027605, -68.79975685027605] and parameters: {'x': -6.294561884167003}. \u001b[0m\n",
      "\u001b[32m[I 2023-04-06 17:04:23,373]\u001b[0m Trial 54 finished with values: [0.7251087472588518, -0.7251087472588518] and parameters: {'x': 2.8515331744910775}. \u001b[0m\n",
      "\u001b[32m[I 2023-04-06 17:04:23,373]\u001b[0m Trial 55 finished with values: [94.71477166508744, -94.71477166508744] and parameters: {'x': -7.7321514407189245}. \u001b[0m\n",
      "\u001b[32m[I 2023-04-06 17:04:23,374]\u001b[0m Trial 56 finished with values: [44.83448110398281, -44.83448110398281] and parameters: {'x': 8.695855516958442}. \u001b[0m\n",
      "\u001b[32m[I 2023-04-06 17:04:23,375]\u001b[0m Trial 57 finished with values: [90.9977051741609, -90.9977051741609] and parameters: {'x': -7.539271731854633}. \u001b[0m\n",
      "\u001b[32m[I 2023-04-06 17:04:23,375]\u001b[0m Trial 58 finished with values: [42.55118029144538, -42.55118029144538] and parameters: {'x': -4.5231265733117105}. \u001b[0m\n",
      "\u001b[32m[I 2023-04-06 17:04:23,376]\u001b[0m Trial 59 finished with values: [8.630253698135194, -8.630253698135194] and parameters: {'x': 4.9377293439211165}. \u001b[0m\n",
      "\u001b[32m[I 2023-04-06 17:04:23,377]\u001b[0m Trial 60 finished with values: [6.577330760648113, -6.577330760648113] and parameters: {'x': 4.564630725981445}. \u001b[0m\n",
      "\u001b[32m[I 2023-04-06 17:04:23,377]\u001b[0m Trial 61 finished with values: [45.48932605644351, -45.48932605644351] and parameters: {'x': 8.7445775298712}. \u001b[0m\n",
      "\u001b[32m[I 2023-04-06 17:04:23,378]\u001b[0m Trial 62 finished with values: [2.07493463604594, -2.07493463604594] and parameters: {'x': 0.5595366592495523}. \u001b[0m\n",
      "\u001b[32m[I 2023-04-06 17:04:23,379]\u001b[0m Trial 63 finished with values: [0.294497586516684, -0.294497586516684] and parameters: {'x': 1.4573236816327029}. \u001b[0m\n",
      "\u001b[32m[I 2023-04-06 17:04:23,380]\u001b[0m Trial 64 finished with values: [0.9842654545569974, -0.9842654545569974] and parameters: {'x': 2.9921015343990742}. \u001b[0m\n",
      "\u001b[32m[I 2023-04-06 17:04:23,380]\u001b[0m Trial 65 finished with values: [49.754559942037204, -49.754559942037204] and parameters: {'x': -5.053691228146948}. \u001b[0m\n",
      "\u001b[32m[I 2023-04-06 17:04:23,381]\u001b[0m Trial 66 finished with values: [37.25703016204222, -37.25703016204222] and parameters: {'x': 8.1038537140107}. \u001b[0m\n",
      "\u001b[32m[I 2023-04-06 17:04:23,382]\u001b[0m Trial 67 finished with values: [93.72391028911485, -93.72391028911485] and parameters: {'x': -7.681111004895815}. \u001b[0m\n",
      "\u001b[32m[I 2023-04-06 17:04:23,383]\u001b[0m Trial 68 finished with values: [0.04859163126843238, -0.04859163126843238] and parameters: {'x': 1.7795649046353272}. \u001b[0m\n",
      "\u001b[32m[I 2023-04-06 17:04:23,383]\u001b[0m Trial 69 finished with values: [78.01761063617057, -78.01761063617057] and parameters: {'x': -6.832757816003481}. \u001b[0m\n",
      "\u001b[32m[I 2023-04-06 17:04:23,384]\u001b[0m Trial 70 finished with values: [76.02649799059614, -76.02649799059614] and parameters: {'x': -6.71931751862473}. \u001b[0m\n",
      "\u001b[32m[I 2023-04-06 17:04:23,385]\u001b[0m Trial 71 finished with values: [4.6598838434207295, -4.6598838434207295] and parameters: {'x': -0.1586764100764917}. \u001b[0m\n",
      "\u001b[32m[I 2023-04-06 17:04:23,386]\u001b[0m Trial 72 finished with values: [21.479935674094282, -21.479935674094282] and parameters: {'x': 6.634645150828085}. \u001b[0m\n",
      "\u001b[32m[I 2023-04-06 17:04:23,387]\u001b[0m Trial 73 finished with values: [4.64046771373403, -4.64046771373403] and parameters: {'x': -0.15417448544309664}. \u001b[0m\n",
      "\u001b[32m[I 2023-04-06 17:04:23,387]\u001b[0m Trial 74 finished with values: [7.899241706852416, -7.899241706852416] and parameters: {'x': -0.810558966976572}. \u001b[0m\n",
      "\u001b[32m[I 2023-04-06 17:04:23,388]\u001b[0m Trial 75 finished with values: [7.1456304713037015, -7.1456304713037015] and parameters: {'x': -0.673131211015221}. \u001b[0m\n",
      "\u001b[32m[I 2023-04-06 17:04:23,389]\u001b[0m Trial 76 finished with values: [19.669452208279843, -19.669452208279843] and parameters: {'x': -2.435025615290158}. \u001b[0m\n",
      "\u001b[32m[I 2023-04-06 17:04:23,389]\u001b[0m Trial 77 finished with values: [122.72996167814641, -122.72996167814641] and parameters: {'x': -9.078355549365005}. \u001b[0m\n",
      "\u001b[32m[I 2023-04-06 17:04:23,390]\u001b[0m Trial 78 finished with values: [58.32432910407309, -58.32432910407309] and parameters: {'x': 9.637036670337068}. \u001b[0m\n",
      "\u001b[32m[I 2023-04-06 17:04:23,391]\u001b[0m Trial 79 finished with values: [46.55960319431732, -46.55960319431732] and parameters: {'x': 8.8234597671795}. \u001b[0m\n",
      "\u001b[32m[I 2023-04-06 17:04:23,392]\u001b[0m Trial 80 finished with values: [83.44014675363819, -83.44014675363819] and parameters: {'x': -7.134557830220256}. \u001b[0m\n",
      "\u001b[32m[I 2023-04-06 17:04:23,393]\u001b[0m Trial 81 finished with values: [0.321049744461053, -0.321049744461053] and parameters: {'x': 2.566612517035278}. \u001b[0m\n",
      "\u001b[32m[I 2023-04-06 17:04:23,393]\u001b[0m Trial 82 finished with values: [9.103316305821615, -9.103316305821615] and parameters: {'x': -1.0171702480671545}. \u001b[0m\n",
      "\u001b[32m[I 2023-04-06 17:04:23,394]\u001b[0m Trial 83 finished with values: [38.50608718595776, -38.50608718595776] and parameters: {'x': 8.205327323031216}. \u001b[0m\n",
      "\u001b[32m[I 2023-04-06 17:04:23,394]\u001b[0m Trial 84 finished with values: [2.709377384874915, -2.709377384874915] and parameters: {'x': 3.6460186465757047}. \u001b[0m\n",
      "\u001b[32m[I 2023-04-06 17:04:23,395]\u001b[0m Trial 85 finished with values: [16.181065578939396, -16.181065578939396] and parameters: {'x': 6.0225695244382536}. \u001b[0m\n",
      "\u001b[32m[I 2023-04-06 17:04:23,395]\u001b[0m Trial 86 finished with values: [38.87474682375489, -38.87474682375489] and parameters: {'x': 8.23496165375176}. \u001b[0m\n",
      "\u001b[32m[I 2023-04-06 17:04:23,396]\u001b[0m Trial 87 finished with values: [22.639204674263723, -22.639204674263723] and parameters: {'x': -2.758067325528688}. \u001b[0m\n",
      "\u001b[32m[I 2023-04-06 17:04:23,397]\u001b[0m Trial 88 finished with values: [0.2206177096347726, -0.2206177096347726] and parameters: {'x': 2.4696995950975182}. \u001b[0m\n",
      "\u001b[32m[I 2023-04-06 17:04:23,397]\u001b[0m Trial 89 finished with values: [13.42984250388008, -13.42984250388008] and parameters: {'x': 5.664674952008715}. \u001b[0m\n",
      "\u001b[32m[I 2023-04-06 17:04:23,398]\u001b[0m Trial 90 finished with values: [132.44660219845468, -132.44660219845468] and parameters: {'x': -9.508544747206516}. \u001b[0m\n",
      "\u001b[32m[I 2023-04-06 17:04:23,399]\u001b[0m Trial 91 finished with values: [3.8362517892891064, -3.8362517892891064] and parameters: {'x': 0.0413648146504908}. \u001b[0m\n",
      "\u001b[32m[I 2023-04-06 17:04:23,400]\u001b[0m Trial 92 finished with values: [55.27126551065502, -55.27126551065502] and parameters: {'x': 9.434464709086662}. \u001b[0m\n",
      "\u001b[32m[I 2023-04-06 17:04:23,401]\u001b[0m Trial 93 finished with values: [1.6577899852268512, -1.6577899852268512] and parameters: {'x': 3.2875519349629556}. \u001b[0m\n",
      "\u001b[32m[I 2023-04-06 17:04:23,401]\u001b[0m Trial 94 finished with values: [40.19712464666404, -40.19712464666404] and parameters: {'x': -4.340120239133012}. \u001b[0m\n",
      "\u001b[32m[I 2023-04-06 17:04:23,402]\u001b[0m Trial 95 finished with values: [67.9177440123204, -67.9177440123204] and parameters: {'x': -6.241222240197166}. \u001b[0m\n",
      "\u001b[32m[I 2023-04-06 17:04:23,403]\u001b[0m Trial 96 finished with values: [0.04236433794451473, -0.04236433794451473] and parameters: {'x': 2.2058259894777983}. \u001b[0m\n",
      "\u001b[32m[I 2023-04-06 17:04:23,403]\u001b[0m Trial 97 finished with values: [35.69503326557385, -35.69503326557385] and parameters: {'x': -3.9745320541088276}. \u001b[0m\n",
      "\u001b[32m[I 2023-04-06 17:04:23,404]\u001b[0m Trial 98 finished with values: [2.8288113454204726, -2.8288113454204726] and parameters: {'x': 0.31809294388171594}. \u001b[0m\n",
      "\u001b[32m[I 2023-04-06 17:04:23,406]\u001b[0m Trial 99 finished with values: [87.93817628668674, -87.93817628668674] and parameters: {'x': -7.3775357256950365}. \u001b[0m\n"
     ]
    }
   ],
   "source": [
    "import optuna\n",
    "def multi_objective(trial):\n",
    "    x = trial.suggest_uniform('x', -10, 10)\n",
    "    f1 = (x - 2) ** 2\n",
    "    f2 = -f1\n",
    "    return f1, f2\n",
    "\n",
    "study = optuna.create_study(directions=['minimize', 'maximize'])\n",
    "study.optimize(multi_objective, n_trials=100)"
   ]
  },
  {
   "cell_type": "code",
   "execution_count": 8,
   "metadata": {},
   "outputs": [
    {
     "data": {
      "text/plain": [
       "[FrozenTrial(number=29, state=TrialState.COMPLETE, values=[0.0004930304153426009, -0.0004930304153426009], datetime_start=datetime.datetime(2023, 4, 6, 17, 4, 23, 351946), datetime_complete=datetime.datetime(2023, 4, 6, 17, 4, 23, 352140), params={'x': 2.0222042882196796}, user_attrs={}, system_attrs={'nsga2:generation': 0}, intermediate_values={}, distributions={'x': FloatDistribution(high=10.0, log=False, low=-10.0, step=None)}, trial_id=29, value=None)]"
      ]
     },
     "execution_count": 8,
     "metadata": {},
     "output_type": "execute_result"
    }
   ],
   "source": [
    "study.best_trials"
   ]
  },
  {
   "cell_type": "code",
   "execution_count": 11,
   "metadata": {},
   "outputs": [
    {
     "data": {
      "text/plain": [
       "{'x': 2.0222042882196796}"
      ]
     },
     "execution_count": 11,
     "metadata": {},
     "output_type": "execute_result"
    }
   ],
   "source": [
    "study.best_trials[0].params"
   ]
  }
 ],
 "metadata": {
  "kernelspec": {
   "display_name": "Python 3",
   "language": "python",
   "name": "python3"
  },
  "language_info": {
   "codemirror_mode": {
    "name": "ipython",
    "version": 3
   },
   "file_extension": ".py",
   "mimetype": "text/x-python",
   "name": "python",
   "nbconvert_exporter": "python",
   "pygments_lexer": "ipython3",
   "version": "3.9.12"
  },
  "orig_nbformat": 4
 },
 "nbformat": 4,
 "nbformat_minor": 2
}
